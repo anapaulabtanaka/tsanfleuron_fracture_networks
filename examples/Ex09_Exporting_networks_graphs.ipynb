{
 "cells": [
  {
   "cell_type": "markdown",
   "id": "f21bcf79-b29a-47f5-8392-bc54156222fc",
   "metadata": {},
   "source": [
    "# Exporting graph as shape, nodes and edges as list"
   ]
  },
  {
   "cell_type": "markdown",
   "id": "b3952e52-c004-4c1b-aa07-37dd5b6eaf07",
   "metadata": {},
   "source": [
    "### The file formats to write and export graphs are .shp and .dat. and .pickle\n",
    "To export the graphs itself in other file formats we suggest the use of networkx functions.\n",
    "https://networkx.org/documentation/stable/reference/readwrite/index.html"
   ]
  },
  {
   "cell_type": "markdown",
   "id": "79472afb-312a-41b6-8449-2b6a9b625c0c",
   "metadata": {},
   "source": [
    "## Load packages"
   ]
  },
  {
   "cell_type": "code",
   "execution_count": 1,
   "id": "060d9600",
   "metadata": {},
   "outputs": [],
   "source": [
    "import geopandas as gpd\n",
    "import networkx as nx\n",
    "from shapely.geometry import LineString, Point\n",
    "import pickle"
   ]
  },
  {
   "cell_type": "markdown",
   "id": "e3b113c5-225e-4bf3-b04b-d6a479a897ee",
   "metadata": {},
   "source": [
    "## Reading file"
   ]
  },
  {
   "cell_type": "code",
   "execution_count": 2,
   "id": "da654284-65b6-4d77-bf18-196ba8689483",
   "metadata": {},
   "outputs": [],
   "source": [
    "#Read geodataframe with geopandas\n",
    "name = 'tsan_fractures'\n",
    "gdf = gpd.read_file(f'data/shapefile/{name}.shp')"
   ]
  },
  {
   "cell_type": "code",
   "execution_count": 3,
   "id": "c34d591e-e9e7-4f7e-a2d2-d6ffb0f2b1c2",
   "metadata": {},
   "outputs": [],
   "source": [
    "#Create graph from shapefile\n",
    "G = nx.Graph()\n",
    "coord_to_label = {}\n",
    "precision = 5 #decimals\n",
    "\n",
    "for index, row in gdf.iterrows():\n",
    "    line = row['geometry']\n",
    "    \n",
    "    if line is not None:\n",
    "        coordinates = [(round(coord[0], precision), round(coord[1], precision)) for coord in line.coords]\n",
    "\n",
    "        for i, coord in enumerate(coordinates):\n",
    "            if coord not in coord_to_label:\n",
    "                label_index = len(coord_to_label)\n",
    "                coord_to_label[coord] = label_index\n",
    "                G.add_node(label_index, pos=coord)\n",
    "\n",
    "        edges = [(coord_to_label[coordinates[i]], coord_to_label[coordinates[i + 1]]) for i in range(len(coordinates) - 1)]\n",
    "        G.add_edges_from(edges)"
   ]
  },
  {
   "cell_type": "markdown",
   "id": "04ad7b49-18cc-4817-9959-de9e161a1b1d",
   "metadata": {},
   "source": [
    "## Exporting graph"
   ]
  },
  {
   "cell_type": "markdown",
   "id": "21dd058d-9323-4cb7-b914-95121334c32c",
   "metadata": {},
   "source": [
    "### Shapefile (.shp)"
   ]
  },
  {
   "cell_type": "code",
   "execution_count": 4,
   "id": "b9a36864-a097-4437-a021-0924ac535266",
   "metadata": {},
   "outputs": [],
   "source": [
    "#Export graph as shapefile with a coordinate reference system\n",
    "crs = 'EPSG:2056'\n",
    "\n",
    "#Get positions and build geometries for geodataframe\n",
    "positions = nx.get_node_attributes(G, 'pos')\n",
    "\n",
    "node_data = {'id': list(positions.keys()), 'geometry': [Point(pos) for pos in positions.values()]}\n",
    "node_gdf = gpd.GeoDataFrame(node_data, crs=crs)\n",
    "\n",
    "edge_data = []\n",
    "for u, v in G.edges():\n",
    "    edge_data.append({'geometry': LineString([positions[u], positions[v]]), 'source': u, 'target': v})\n",
    "edge_gdf = gpd.GeoDataFrame(edge_data, crs=crs)\n",
    "\n",
    "node_gdf.to_file(f'data/output/{name}_node.shp')\n",
    "edge_gdf.to_file(f'data/output/{name}_edge.shp')"
   ]
  },
  {
   "cell_type": "markdown",
   "id": "09a03cee-f35b-429d-a796-0363ae72dae4",
   "metadata": {},
   "source": [
    "### Edge list"
   ]
  },
  {
   "cell_type": "code",
   "execution_count": 5,
   "id": "4786f2cd-b4ba-4d0e-af7d-cf4aa4de4d96",
   "metadata": {},
   "outputs": [],
   "source": [
    "#Export adjacency List\n",
    "nx.write_edgelist(G, f'data/output/{name}_edgelist')"
   ]
  },
  {
   "cell_type": "markdown",
   "id": "c39fe553-8e02-43c3-bde7-5ed31078e1bd",
   "metadata": {},
   "source": [
    "### Karstnet format (.dat)"
   ]
  },
  {
   "cell_type": "code",
   "execution_count": 6,
   "id": "fae2ff9e-623a-474b-bbb3-937df851dc26",
   "metadata": {},
   "outputs": [],
   "source": [
    "#Export edges as list\n",
    "with open(f'data/output/{name}_edgelist', 'r') as infile, open(f'data/output/{name}_edge.dat', 'w') as outfile:\n",
    "    for line in infile:\n",
    "        parts = line.split()\n",
    "        new_line = f\"{int(parts[0]) + 1} {int(parts[1]) + 1}\\n\"\n",
    "    \n",
    "        outfile.write(new_line)"
   ]
  },
  {
   "cell_type": "code",
   "execution_count": 7,
   "id": "17304255-8561-46bb-a3c0-6b4175d9e3af",
   "metadata": {},
   "outputs": [],
   "source": [
    "pos_dict = {i: p for i, p in nx.get_node_attributes(G, 'pos').items()}"
   ]
  },
  {
   "cell_type": "code",
   "execution_count": 8,
   "id": "28fcaf40-bda5-4cdc-989d-ea5c0863260a",
   "metadata": {},
   "outputs": [],
   "source": [
    "#Export nodes coordinates as a list\n",
    "positions = nx.get_node_attributes(G, 'pos')\n",
    "coordinates_list = list(positions.values())\n",
    "\n",
    "with open(f'data/output/{name}_nodes.dat', 'w') as outfile:\n",
    "    for coordinate in coordinates_list:\n",
    "        outfile.write(f\"{coordinate[0]} {coordinate[1]} {0}\\n\")"
   ]
  },
  {
   "cell_type": "markdown",
   "id": "95273e30-b74f-4035-93f5-e0200d861b28",
   "metadata": {},
   "source": [
    "### Python object serialization (.pickle)\n",
    "We suggest python only for exporting and importing from one example to the other in sequence, but not for keeping the file in an archive."
   ]
  },
  {
   "cell_type": "code",
   "execution_count": 10,
   "id": "37920170-da42-40e2-ae5b-98f0b60ee055",
   "metadata": {},
   "outputs": [],
   "source": [
    "#Export graph as pickle\n",
    "output = f'data/graphs/{name}.pickle'\n",
    "pickle.dump(G, open(output, 'wb'))"
   ]
  }
 ],
 "metadata": {
  "kernelspec": {
   "display_name": "Python 3 (ipykernel)",
   "language": "python",
   "name": "python3"
  },
  "language_info": {
   "codemirror_mode": {
    "name": "ipython",
    "version": 3
   },
   "file_extension": ".py",
   "mimetype": "text/x-python",
   "name": "python",
   "nbconvert_exporter": "python",
   "pygments_lexer": "ipython3",
   "version": "3.12.0"
  }
 },
 "nbformat": 4,
 "nbformat_minor": 5
}
